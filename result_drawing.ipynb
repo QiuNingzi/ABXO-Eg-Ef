{
 "cells": [
  {
   "cell_type": "code",
   "execution_count": 1,
   "id": "a0613fc9",
   "metadata": {},
   "outputs": [],
   "source": [
    "import matplotlib.pyplot as plt\n",
    "from matplotlib import rcParams\n",
    "import os\n",
    "import numpy as np\n",
    "import pandas as pd"
   ]
  },
  {
   "cell_type": "code",
   "execution_count": 2,
   "id": "ebee4f9b",
   "metadata": {},
   "outputs": [
    {
     "name": "stdout",
     "output_type": "stream",
     "text": [
      "(269, 2)\n"
     ]
    },
    {
     "data": {
      "text/html": [
       "<div>\n",
       "<style scoped>\n",
       "    .dataframe tbody tr th:only-of-type {\n",
       "        vertical-align: middle;\n",
       "    }\n",
       "\n",
       "    .dataframe tbody tr th {\n",
       "        vertical-align: top;\n",
       "    }\n",
       "\n",
       "    .dataframe thead th {\n",
       "        text-align: right;\n",
       "    }\n",
       "</style>\n",
       "<table border=\"1\" class=\"dataframe\">\n",
       "  <thead>\n",
       "    <tr style=\"text-align: right;\">\n",
       "      <th></th>\n",
       "      <th>test</th>\n",
       "      <th>pred</th>\n",
       "    </tr>\n",
       "  </thead>\n",
       "  <tbody>\n",
       "    <tr>\n",
       "      <th>0</th>\n",
       "      <td>-1.110974</td>\n",
       "      <td>-1.120628</td>\n",
       "    </tr>\n",
       "    <tr>\n",
       "      <th>1</th>\n",
       "      <td>-2.663495</td>\n",
       "      <td>-2.665989</td>\n",
       "    </tr>\n",
       "    <tr>\n",
       "      <th>2</th>\n",
       "      <td>-3.412489</td>\n",
       "      <td>-3.435696</td>\n",
       "    </tr>\n",
       "    <tr>\n",
       "      <th>3</th>\n",
       "      <td>-2.829073</td>\n",
       "      <td>-2.775838</td>\n",
       "    </tr>\n",
       "    <tr>\n",
       "      <th>4</th>\n",
       "      <td>-1.055131</td>\n",
       "      <td>-1.247129</td>\n",
       "    </tr>\n",
       "  </tbody>\n",
       "</table>\n",
       "</div>"
      ],
      "text/plain": [
       "       test      pred\n",
       "0 -1.110974 -1.120628\n",
       "1 -2.663495 -2.665989\n",
       "2 -3.412489 -3.435696\n",
       "3 -2.829073 -2.775838\n",
       "4 -1.055131 -1.247129"
      ]
     },
     "execution_count": 2,
     "metadata": {},
     "output_type": "execute_result"
    }
   ],
   "source": [
    "data = pd.read_csv(os.getcwd() + \"\\\\result\\\\data\\\\Ef_without_raw.csv\")\n",
    "print(data.shape)\n",
    "data.head()"
   ]
  },
  {
   "cell_type": "code",
   "execution_count": 3,
   "id": "5d415a10",
   "metadata": {},
   "outputs": [],
   "source": [
    "config = {\n",
    "    \"font.family\":'serif',\n",
    "    \"font.size\": 18,\n",
    "    \"mathtext.fontset\":'stix',\n",
    "    \"font.serif\": ['Arial'],\n",
    "}\n",
    "rcParams.update(config)"
   ]
  },
  {
   "cell_type": "code",
   "execution_count": 4,
   "id": "ea176b32",
   "metadata": {},
   "outputs": [
    {
     "data": {
      "image/png": "[encoded data removed]",
      "text/plain": [
       "<Figure size 360x288 with 1 Axes>"
      ]
     },
     "metadata": {
      "needs_background": "light"
     },
     "output_type": "display_data"
    }
   ],
   "source": [
    "fig, ax = plt.subplots(figsize=(5, 4))\n",
    "ax.scatter(data.test, data.pred, c='red')\n",
    "ax.set_xlabel('Formation energy from MP (eV)', fontsize=12)\n",
    "ax.set_ylabel('Predicted formation energye (eV)', fontsize=12)\n",
    "# ax.set_xlim(-4, 0)\n",
    "# ax.set_ylim(-4, 0)\n",
    "ax.plot([-4, 0], [-4, 0], color='black', linestyle='--')  # 分割线\n",
    "plt.xticks(fontproperties='Arial', size=12)\n",
    "plt.yticks(fontproperties='Arial', size=12)\n",
    "\n",
    "plt.savefig(os.getcwd()+\"\\\\result\\\\Ef_without.png\", dpi=300, bbox_inches='tight') \n",
    "plt.show()"
   ]
  },
  {
   "cell_type": "markdown",
   "id": "fd36aa89",
   "metadata": {},
   "source": [
    "### "
   ]
  },
  {
   "cell_type": "code",
   "execution_count": 5,
   "id": "7a9b6d53",
   "metadata": {},
   "outputs": [
    {
     "name": "stdout",
     "output_type": "stream",
     "text": [
      "(269, 4)\n"
     ]
    },
    {
     "data": {
      "text/html": [
       "<div>\n",
       "<style scoped>\n",
       "    .dataframe tbody tr th:only-of-type {\n",
       "        vertical-align: middle;\n",
       "    }\n",
       "\n",
       "    .dataframe tbody tr th {\n",
       "        vertical-align: top;\n",
       "    }\n",
       "\n",
       "    .dataframe thead th {\n",
       "        text-align: right;\n",
       "    }\n",
       "</style>\n",
       "<table border=\"1\" class=\"dataframe\">\n",
       "  <thead>\n",
       "    <tr style=\"text-align: right;\">\n",
       "      <th></th>\n",
       "      <th>Ef_test</th>\n",
       "      <th>Ef_pred</th>\n",
       "      <th>Eg_test</th>\n",
       "      <th>Eg_pred</th>\n",
       "    </tr>\n",
       "  </thead>\n",
       "  <tbody>\n",
       "    <tr>\n",
       "      <th>0</th>\n",
       "      <td>-1.110974</td>\n",
       "      <td>-0.964820</td>\n",
       "      <td>0.9989</td>\n",
       "      <td>1.445158</td>\n",
       "    </tr>\n",
       "    <tr>\n",
       "      <th>1</th>\n",
       "      <td>-2.663495</td>\n",
       "      <td>-2.698895</td>\n",
       "      <td>1.1590</td>\n",
       "      <td>1.198226</td>\n",
       "    </tr>\n",
       "    <tr>\n",
       "      <th>2</th>\n",
       "      <td>-3.412489</td>\n",
       "      <td>-3.478174</td>\n",
       "      <td>0.1106</td>\n",
       "      <td>1.448847</td>\n",
       "    </tr>\n",
       "    <tr>\n",
       "      <th>3</th>\n",
       "      <td>-2.829073</td>\n",
       "      <td>-2.668195</td>\n",
       "      <td>2.2672</td>\n",
       "      <td>3.001870</td>\n",
       "    </tr>\n",
       "    <tr>\n",
       "      <th>4</th>\n",
       "      <td>-1.055131</td>\n",
       "      <td>-1.177842</td>\n",
       "      <td>2.5605</td>\n",
       "      <td>2.785956</td>\n",
       "    </tr>\n",
       "  </tbody>\n",
       "</table>\n",
       "</div>"
      ],
      "text/plain": [
       "    Ef_test   Ef_pred  Eg_test   Eg_pred\n",
       "0 -1.110974 -0.964820   0.9989  1.445158\n",
       "1 -2.663495 -2.698895   1.1590  1.198226\n",
       "2 -3.412489 -3.478174   0.1106  1.448847\n",
       "3 -2.829073 -2.668195   2.2672  3.001870\n",
       "4 -1.055131 -1.177842   2.5605  2.785956"
      ]
     },
     "execution_count": 5,
     "metadata": {},
     "output_type": "execute_result"
    }
   ],
   "source": [
    "data1 = pd.read_csv(os.getcwd() + \"\\\\result\\\\data\\\\Ef_with_optimized.csv\")\n",
    "print(data1.shape)\n",
    "data1.head()"
   ]
  },
  {
   "cell_type": "code",
   "execution_count": 6,
   "id": "a5e495dd",
   "metadata": {},
   "outputs": [
    {
     "data": {
      "image/png": "[encoded data removed]",
      "text/plain": [
       "<Figure size 360x288 with 1 Axes>"
      ]
     },
     "metadata": {
      "needs_background": "light"
     },
     "output_type": "display_data"
    }
   ],
   "source": [
    "fig, ax = plt.subplots(figsize=(5, 4))\n",
    "ax.scatter(data1.Ef_test, data1.Ef_pred, c='blue')\n",
    "ax.set_xlabel('Formation energy from MP (eV)', fontsize=12)\n",
    "ax.set_ylabel('Predicted formation energye (eV)', fontsize=12)\n",
    "# ax.set_xlim(-4, 0)\n",
    "# ax.set_ylim(-4, 0)\n",
    "ax.plot([-4, 0], [-4, 0], color='black', linestyle='--')  # 分割线\n",
    "plt.xticks(fontproperties='Arial', size=12)\n",
    "plt.yticks(fontproperties='Arial', size=12)\n",
    "\n",
    "plt.savefig(os.getcwd()+\"\\\\result\\\\Ef_with.png\", dpi=300, bbox_inches='tight') \n",
    "plt.show()"
   ]
  },
  {
   "cell_type": "code",
   "execution_count": null,
   "id": "f64cfc70",
   "metadata": {},
   "outputs": [],
   "source": []
  },
  {
   "cell_type": "code",
   "execution_count": 7,
   "id": "54699a98",
   "metadata": {},
   "outputs": [
    {
     "data": {
      "image/png": "[encoded data removed]",
      "text/plain": [
       "<Figure size 360x288 with 1 Axes>"
      ]
     },
     "metadata": {
      "needs_background": "light"
     },
     "output_type": "display_data"
    }
   ],
   "source": [
    "fig, ax = plt.subplots(figsize=(5, 4))\n",
    "ax.scatter(data1.Eg_test, data1.Eg_pred, c='red')\n",
    "ax.set_xlabel('Band gap from MP (eV)', fontsize=12)\n",
    "ax.set_ylabel('Predicted band gap (eV)', fontsize=12)\n",
    "# ax.set_xlim(-4, 0)\n",
    "# ax.set_ylim(-4, 0)\n",
    "ax.plot([0, 7], [0, 7], color='black', linestyle='--')  # 分割线\n",
    "plt.xticks(fontproperties='Arial', size=12)\n",
    "plt.yticks(fontproperties='Arial', size=12)\n",
    "\n",
    "plt.savefig(os.getcwd()+\"\\\\result\\\\Eg_with.png\", dpi=300, bbox_inches='tight') \n",
    "plt.show()"
   ]
  },
  {
   "cell_type": "code",
   "execution_count": null,
   "id": "1eabf7a4",
   "metadata": {},
   "outputs": [],
   "source": []
  }
 ],
 "metadata": {
  "kernelspec": {
   "display_name": "Python 3 (ipykernel)",
   "language": "python",
   "name": "python3"
  },
  "language_info": {
   "codemirror_mode": {
    "name": "ipython",
    "version": 3
   },
   "file_extension": ".py",
   "mimetype": "text/x-python",
   "name": "python",
   "nbconvert_exporter": "python",
   "pygments_lexer": "ipython3",
   "version": "3.9.4"
  }
 },
 "nbformat": 4,
 "nbformat_minor": 5
}
