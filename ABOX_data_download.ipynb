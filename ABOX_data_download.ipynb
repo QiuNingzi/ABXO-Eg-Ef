{
 "cells": [
  {
   "cell_type": "code",
   "execution_count": 1,
   "id": "1d9ca03b",
   "metadata": {},
   "outputs": [],
   "source": [
    "from pymatgen.ext.matproj import MPRester\n",
    "import pprint\n",
    "import csv\n",
    "import os"
   ]
  },
  {
   "cell_type": "code",
   "execution_count": 2,
   "id": "838f7f70",
   "metadata": {},
   "outputs": [],
   "source": [
    "# Query the properties in the properties_list from the target string \n",
    "# (the API_KEY has been changed beforehand, otherwise it needs to be passed in)\n",
    "def que_props(target, properties_list):\n",
    "    with MPRester() as m:\n",
    "        data = m.query(target, properties_list)\n",
    "    return data"
   ]
  },
  {
   "cell_type": "code",
   "execution_count": 3,
   "id": "8d7a8d6d",
   "metadata": {},
   "outputs": [],
   "source": [
    "# Write the resulting data into a CSV file\n",
    "def dictlist_to_csv(list, out_filename):\n",
    "    with open(out_filename, 'w', newline='') as csv_file:\n",
    "        fieldnames = list[0].keys()\n",
    "        writer = csv.DictWriter(csv_file, fieldnames=fieldnames)\n",
    "        writer.writeheader()\n",
    "        writer.writerows(list)"
   ]
  },
  {
   "cell_type": "code",
   "execution_count": 4,
   "id": "8c5e9bee",
   "metadata": {},
   "outputs": [],
   "source": [
    "X_list = [\"F\", \"Cl\", \"Br\", \"I\", \n",
    "          \"O\", \"S\", \"Se\", \"N\"]\n",
    "\n",
    "prop_list = ['material_id', 'pretty_formula', 'full_formula', 'unit_cell_formula', \n",
    "             'energy', 'energy_per_atom', 'formation_energy_per_atom', \n",
    "             'e_above_hull', 'density', 'spacegroup.crystal_system', 'cif', \n",
    "             'has_bandstructure', 'total_magnetization', 'band_gap', 'volume']"
   ]
  },
  {
   "cell_type": "code",
   "execution_count": 5,
   "id": "c179a8ce",
   "metadata": {},
   "outputs": [
    {
     "name": "stdout",
     "output_type": "stream",
     "text": [
      "['*1*1F3', '*1*1Cl3', '*1*1Br3', '*1*1I3', '*1*1O3', '*1*1S3', '*1*1Se3', '*1*1N3']\n"
     ]
    }
   ],
   "source": [
    "ABX3_list = []\n",
    "for i in X_list:\n",
    "    ABX3 = \"*1*1\" + i + \"3\"\n",
    "    ABX3_list.append(ABX3)\n",
    "\n",
    "print(ABX3_list)"
   ]
  },
  {
   "cell_type": "code",
   "execution_count": 11,
   "id": "ece94123",
   "metadata": {
    "scrolled": true
   },
   "outputs": [
    {
     "name": "stdout",
     "output_type": "stream",
     "text": [
      "*1*1F3 has done ! 339\n",
      "*1*1Cl3 has done ! 181\n",
      "*1*1Br3 has done ! 133\n",
      "*1*1I3 has done ! 82\n"
     ]
    },
    {
     "name": "stderr",
     "output_type": "stream",
     "text": [
      "100%|██████████████████████████████████████████████████████████████████████████████| 2398/2398 [02:10<00:00, 18.38it/s]\n"
     ]
    },
    {
     "name": "stdout",
     "output_type": "stream",
     "text": [
      "*1*1O3 has done ! 2398\n",
      "*1*1S3 has done ! 205\n",
      "*1*1Se3 has done ! 92\n",
      "*1*1N3 has done ! 107\n"
     ]
    }
   ],
   "source": [
    "all_data = []\n",
    "\n",
    "for i in ABX3_list:\n",
    "    data = que_props(i, prop_list)\n",
    "    all_data = all_data + data\n",
    "    print(i, \"has done !\", len(data))\n",
    "\n",
    "# Error: 502 Bad Gateway \n",
    "# It doesn't always connect"
   ]
  },
  {
   "cell_type": "code",
   "execution_count": 13,
   "id": "bdc822c6",
   "metadata": {},
   "outputs": [
    {
     "name": "stdout",
     "output_type": "stream",
     "text": [
      "3537\n"
     ]
    }
   ],
   "source": [
    "print(len(all_data))"
   ]
  },
  {
   "cell_type": "code",
   "execution_count": 14,
   "id": "2f2dd8f3",
   "metadata": {},
   "outputs": [],
   "source": [
    "dictlist_to_csv(all_data, os.getcwd()+'\\\\data\\\\ABOX_raw_data.csv') "
   ]
  },
  {
   "cell_type": "code",
   "execution_count": null,
   "id": "1e55cf36",
   "metadata": {},
   "outputs": [],
   "source": []
  },
  {
   "cell_type": "code",
   "execution_count": null,
   "id": "986242f4",
   "metadata": {},
   "outputs": [],
   "source": []
  }
 ],
 "metadata": {
  "kernelspec": {
   "display_name": "Python 3 (ipykernel)",
   "language": "python",
   "name": "python3"
  },
  "language_info": {
   "codemirror_mode": {
    "name": "ipython",
    "version": 3
   },
   "file_extension": ".py",
   "mimetype": "text/x-python",
   "name": "python",
   "nbconvert_exporter": "python",
   "pygments_lexer": "ipython3",
   "version": "3.9.4"
  }
 },
 "nbformat": 4,
 "nbformat_minor": 5
}
